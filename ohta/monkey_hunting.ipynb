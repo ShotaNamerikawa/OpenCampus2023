{
 "cells": [
  {
   "cell_type": "code",
   "execution_count": 1,
   "metadata": {},
   "outputs": [],
   "source": [
    "import math\n",
    "G = 9.80665"
   ]
  },
  {
   "cell_type": "code",
   "execution_count": 3,
   "metadata": {},
   "outputs": [],
   "source": [
    "while True:\n",
    "    try:\n",
    "        v_bullet = float(input(\"v_bullet[m/s] = \"))\n",
    "        ang_bullet = float(input(\"ang_bullet[度] = \"))\n",
    "        m_bullet = float(input(\"m_bullet[kg] = \"))\n",
    "        h_monkey = float(input(\"h_monkey[m] = \"))\n",
    "        l_monkey = float(input(\"l_monkey[m] = \"))\n",
    "        m_monkey = float(input(\"m_monkey[kg] = \"))\n",
    "        r_monkey = float(input(\"r_monkey[m] = \"))\n",
    "        dt = float(input(\"dt[s] = \"))\n",
    "        break\n",
    "    except:\n",
    "        print(\"エラー　もう一度入力\\n\")\n",
    "        continue\n",
    "\n",
    "x_bullet = 0.0\n",
    "y_bullet = 0.0\n",
    "x_monkey = l_monkey\n",
    "y_monkey = 0.0\n",
    "t_hit = 0.0"
   ]
  },
  {
   "cell_type": "code",
   "execution_count": null,
   "metadata": {},
   "outputs": [],
   "source": [
    "with open(\"monkey_hunting.txt\", \"w\") as ofs:\n",
    "    t = 0.0\n",
    "    while True:\n",
    "        x_bullet = v_bullet * math.cos(math.pi * ang_bullet / 180) * t\n",
    "        y_bullet = v_bullet * math.sin(math.pi * ang_bullet / 180) * t - (0.5 * G * t * t)\n",
    "        y_monkey = h_monkey - 0.5 * G * t * t\n",
    "\n",
    "        ofs.write(f\"{t} {x_bullet} {y_bullet} {x_monkey} {y_monkey}\\n\")\n",
    "\n",
    "        if y_bullet < 0 or y_monkey <= r_monkey:\n",
    "            print(\"no hit\")\n",
    "            t_hit = -1\n",
    "            break\n",
    "        elif x_monkey - x_bullet <= r_monkey and math.fabs(y_monkey - y_bullet) <= r_monkey:\n",
    "            print(\"hit\")\n",
    "            t_hit = t\n",
    "            break\n",
    "\n",
    "        t += dt\n",
    "\n",
    "if t_hit != -1:\n",
    "    vx_bullet = v_bullet * math.cos(math.pi * ang_bullet / 180)\n",
    "    vy_bullet = v_bullet * math.sin(math.pi * ang_bullet / 180) - G * t_hit\n",
    "    vy_monkey = -G * t_hit\n",
    "    V_x = m_bullet * vx_bullet / (m_bullet + m_monkey)\n",
    "    V_y = (m_bullet * vy_bullet + m_monkey * vy_monkey) / (m_bullet + m_monkey)\n",
    "\n",
    "    with open(\"monkey_hunting.txt\", \"a\") as ofs:\n",
    "        t = 0.1\n",
    "        while True:\n",
    "            X = V_x * t\n",
    "            Y = V_y * t - 0.5 * G * t * t\n",
    "\n",
    "            ofs.write(f\"{t + t_hit} {x_bullet + X} {y_bullet + Y} {x_monkey + X} {y_monkey + Y}\\n\")\n",
    "\n",
    "            if y_monkey + Y <= r_monkey:\n",
    "                break\n",
    "\n",
    "            t += dt"
   ]
  }
 ],
 "metadata": {
  "kernelspec": {
   "display_name": "Python 3",
   "language": "python",
   "name": "python3"
  },
  "language_info": {
   "codemirror_mode": {
    "name": "ipython",
    "version": 3
   },
   "file_extension": ".py",
   "mimetype": "text/x-python",
   "name": "python",
   "nbconvert_exporter": "python",
   "pygments_lexer": "ipython3",
   "version": "3.11.3"
  },
  "orig_nbformat": 4
 },
 "nbformat": 4,
 "nbformat_minor": 2
}
